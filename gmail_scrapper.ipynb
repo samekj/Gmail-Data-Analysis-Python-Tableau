{
 "cells": [
  {
   "cell_type": "markdown",
   "metadata": {},
   "source": [
    "## Step 0: Enable IMAP Access and Generate Credentials\n",
    "\n",
    "1. **Enable IMAP Access:** The first thing you need to do is to \"Enable IMAP Access\" in the \"IMAP Access\" section of Gmail. This will allow you to access your Gmail account from any device.\n",
    "\n",
    "2. **Generate Application-Specific Password:** Next, you should generate an [app password](https://myaccount.google.com/apppasswords). You will use this password to log in to Gmail from Python."
   ]
  },
  {
   "cell_type": "code",
   "execution_count": null,
   "metadata": {},
   "outputs": [],
   "source": [
    "# Import the required libraries for handling IMAP, email, and email headers\n",
    "import imaplib\n",
    "import email\n",
    "from email.header import decode_header\n",
    "\n",
    "# Import pandas for data manipulation and tqdm for progress bars\n",
    "import pandas as pd\n",
    "from tqdm import tqdm\n",
    "\n",
    "# Import numpy for numerical operations and PIL for image handling\n",
    "import numpy as np\n",
    "from PIL import Image\n",
    "\n",
    "# Import matplotlib for data visualization and LinearSegmentedColormap for custom color palettes\n",
    "import matplotlib.pyplot as plt\n",
    "from matplotlib.colors import LinearSegmentedColormap\n",
    "\n",
    "# Import WordCloud and STOPWORDS for creating and customizing word clouds\n",
    "from wordcloud import WordCloud, STOPWORDS\n"
   ]
  },
  {
   "cell_type": "markdown",
   "metadata": {},
   "source": [
    "## Step 1: Access Gmail with the Credentials\n",
    "\n",
    "In this step, you will log in to your Gmail account using the credentials you've obtained or generated in the previous steps."
   ]
  },
  {
   "cell_type": "code",
   "execution_count": null,
   "metadata": {},
   "outputs": [],
   "source": [
    "# Define the Gmail email address and password for authentication\n",
    "user, password = \"your@mail.com\", \"app password\""
   ]
  },
  {
   "cell_type": "code",
   "execution_count": null,
   "metadata": {},
   "outputs": [],
   "source": [
    "# Define the IMAP server URL for Gmail\n",
    "imap_url = 'imap.gmail.com'\n",
    "\n",
    "# Create an instance of IMAP4_SSL for secure connection to Gmail's IMAP server\n",
    "my_mail = imaplib.IMAP4_SSL(imap_url)\n",
    "\n",
    "# Authenticate the Gmail account using the provided email address and password\n",
    "my_mail.login(user, password)"
   ]
  },
  {
   "cell_type": "code",
   "execution_count": null,
   "metadata": {},
   "outputs": [],
   "source": [
    "# Select All Emails in the Inbox\n",
    "my_mail.select('Inbox')"
   ]
  },
  {
   "cell_type": "code",
   "execution_count": null,
   "metadata": {},
   "outputs": [],
   "source": [
    "# Get the total number of emails in the 'Inbox' folder and store it in 'all_mail'\n",
    "all_mail = int(my_mail.select('Inbox')[1][0].decode('utf-8'))\n",
    "\n",
    "# Print the total number of emails\n",
    "print(f\"Total number of emails in the 'Inbox' folder: {all_mail}\")"
   ]
  },
  {
   "cell_type": "markdown",
   "metadata": {},
   "source": [
    "### Step 2: Obtain Emails"
   ]
  },
  {
   "cell_type": "code",
   "execution_count": null,
   "metadata": {},
   "outputs": [],
   "source": [
    "# Create an empty DataFrame to store email data with columns: 'Date', 'From', 'Subject'\n",
    "email_df = pd.DataFrame(columns=['Date', 'From', 'Subject'], index=range(all_mail, 0, -1))\n",
    "\n",
    "# Iterate through emails in reverse order and fetch email data (UID and RFC822)\n",
    "for i in tqdm(range(all_mail, 0, -1)):\n",
    "    data = my_mail.fetch(str(i), '(UID RFC822)')\n",
    "    arr = data[1][0]\n",
    "    \n",
    "    # Check if the content is a tuple, and parse the email message (using 'utf-8' encoding if possible)\n",
    "    if isinstance(arr, tuple):\n",
    "        try: msg = email.message_from_string(str(arr[1], 'utf-8'))\n",
    "        except: msg = email.message_from_string(str(arr[1], 'latin-1'))\n",
    "        \n",
    "        # Create a new row with email data and add it to the DataFrame\n",
    "        new_row = pd.Series({\"Date\": msg['Date'], \"From\": msg['from'], \"Subject\": msg['subject']})\n",
    "        \n",
    "    # Append the new row to the DataFrame\n",
    "    email_df = email_df.append(new_row, ignore_index=True)\n",
    "\n",
    "# Drop rows with all NaN values and reset the DataFrame index\n",
    "email_df = email_df.dropna(how='all').reset_index(drop=True)"
   ]
  },
  {
   "cell_type": "code",
   "execution_count": null,
   "metadata": {},
   "outputs": [],
   "source": [
    "# Make a copy of the original DataFrame email_df\n",
    "email_df_copy = email_df.copy()"
   ]
  },
  {
   "cell_type": "code",
   "execution_count": null,
   "metadata": {},
   "outputs": [],
   "source": [
    "# Save the dataframe to a csv file\n",
    "email_df.to_csv('/Users/skj/Documents/GOOGLE DATA ANALYTICS/gmail case/email_df_ES.csv', index=False, encoding='utf-8')"
   ]
  },
  {
   "cell_type": "code",
   "execution_count": null,
   "metadata": {},
   "outputs": [],
   "source": [
    "print(email_df.shape)"
   ]
  },
  {
   "cell_type": "code",
   "execution_count": null,
   "metadata": {},
   "outputs": [],
   "source": [
    "# Show all the posible variables that can be extracted\n",
    "print(msg.keys())"
   ]
  },
  {
   "cell_type": "markdown",
   "metadata": {},
   "source": [
    "### Paso 3: Limpieza y transformación de datos"
   ]
  },
  {
   "cell_type": "markdown",
   "metadata": {},
   "source": [
    "##### 3.1. *Date* column"
   ]
  },
  {
   "cell_type": "code",
   "execution_count": null,
   "metadata": {},
   "outputs": [],
   "source": [
    "def clean_date(x):\n",
    "    if ',' not in x: x = ', ' + x\n",
    "    if '(' in x: x = ' '.join(x.split(' ')[:-1])\n",
    "    x = ' '.join(x.split(' ')[:-1])\n",
    "    return x"
   ]
  },
  {
   "cell_type": "code",
   "execution_count": null,
   "metadata": {},
   "outputs": [],
   "source": [
    "# Convert 'Date' to string and strip whitespace\n",
    "email_df['Date'] = email_df['Date'].astype(str).str.strip()\n",
    "\n",
    "# Transform the 'Date' column. From \"Wed, 14 Sep 2022 17:38:23 +0000 (UTC)\"\n",
    "email_df['Date'] = email_df['Date'].apply(lambda x: clean_date(x))  # Extract \"Wed, 14 Sep 2022 17:38:23\"\n",
    "email_df['Date'] = email_df['Date'].str.split(', ').str[-1]         # Extract \"14 Sep 2022 17:38:23\"\n",
    "email_df['H_M_S'] = email_df['Date'].apply(lambda x: x[-8:])        # Extract \"17:38:23\" and create a new 'H_M_S' column\n",
    "\n",
    "# Create an 'Hour' column with time intervals like \"17h-18h\"\n",
    "email_df['Hour'] = email_df['H_M_S'].apply(lambda x: x[:2] + 'h-' + str(int(x[:2]) + 1).zfill(2) + 'h')\n",
    "\n",
    "# Transform the 'Date' column to get \"14 Sep 2022\" and format it as a datetime object\n",
    "email_df['Date'] = email_df['Date'].apply(lambda x: x[:-9] if len(x[:-9]) == 11 else '0' + x[:-9])\n",
    "email_df['Date'] = pd.to_datetime(email_df['Date'], format='%d %b %Y')\n",
    "\n",
    "# Create a 'WeekDay' column to extract the weekday like \"Wednesday\"\n",
    "email_df['WeekDay'] = email_df['Date'].dt.strftime('%A')\n",
    "\n",
    "email_df.head()  # Display the updated DataFrame\n"
   ]
  },
  {
   "cell_type": "markdown",
   "metadata": {},
   "source": [
    "##### 3.2. *From* and *Subject* columns"
   ]
  },
  {
   "cell_type": "code",
   "execution_count": null,
   "metadata": {},
   "outputs": [],
   "source": [
    "# Function to obtain the email address from a string in the format \"Name <email@example.com>\"\n",
    "def extract_email_from(x):\n",
    "    # Split the input string 'x' by '<' and select the email address part between '<' and '>'\n",
    "    x_mod = x.split('<')[-1].split('>')[0]\n",
    "    return x_mod\n",
    "\n",
    "# Function to obtain the name or sender from an email address string with optional encoding\n",
    "def extract_name_from(x):\n",
    "    # Decode the input 'x' to handle encoding, then remove extra characters and return the name\n",
    "    text, encoding = decode_header(x)[0]\n",
    "    if not encoding and isinstance(text, str):\n",
    "        text = ' '.join(text.split(' ')[:-1])\n",
    "    else:\n",
    "        text = text.decode('utf-8', errors='ignore')\n",
    "    text = text.replace('\"', '')\n",
    "    return text\n",
    "\n",
    "# Function to clean and decode the subject line of an email\n",
    "def clean_subject_line(x):\n",
    "    if x:\n",
    "        # Decode the subject line and handle encoding errors, if any\n",
    "        text, encoding = decode_header(x)[0]\n",
    "        try:\n",
    "            text = text.decode('utf-8', errors='ignore')\n",
    "        except:\n",
    "            pass\n",
    "    else:\n",
    "        text = x\n",
    "    return text\n"
   ]
  },
  {
   "cell_type": "code",
   "execution_count": null,
   "metadata": {},
   "outputs": [],
   "source": [
    "# Extract email addresses from the 'From' column and create a new 'Mail' column\n",
    "email_df['Mail'] = email_df['From'].apply(lambda x: extract_email_from(x))\n",
    "\n",
    "# Extract sender names from the 'From' column and create a new 'Name' column\n",
    "email_df['Name'] = email_df['From'].apply(lambda x: extract_name_from(x))\n",
    "\n",
    "# Clean and decode subject lines in the 'Subject' column\n",
    "email_df['Subject'] = email_df['Subject'].apply(lambda x: clean_subject_line(x))\n",
    "\n",
    "# Drop the 'From' column and reorder columns in the DataFrame\n",
    "email_df = email_df.drop(columns=['From'])[['Date', 'H_M_S', 'Hour', 'WeekDay', 'Mail', 'Name', 'Subject']]\n",
    "\n",
    "# Display the first few rows of the updated DataFrame\n",
    "email_df.head()\n"
   ]
  },
  {
   "cell_type": "code",
   "execution_count": null,
   "metadata": {},
   "outputs": [],
   "source": [
    "# Save the DataFrame 'email_df' to a CSV file with the specified path and encoding\n",
    "email_df.to_csv('/Users/skj/Documents/GOOGLE DATA ANALYTICS/gmail case/email_df_final_LK.csv', index=False, encoding='utf-8')"
   ]
  },
  {
   "cell_type": "code",
   "execution_count": null,
   "metadata": {},
   "outputs": [],
   "source": [
    "email_df.info()"
   ]
  },
  {
   "cell_type": "markdown",
   "metadata": {},
   "source": [
    "### Step 4: Plot a Word Cloud of the email subjects (column *Subject*)"
   ]
  },
  {
   "cell_type": "code",
   "execution_count": null,
   "metadata": {},
   "outputs": [],
   "source": [
    "# Scale RGB values from 0 to 1\n",
    "def inter_from_256(x):\n",
    "    return np.interp(x=x,xp=[0,255],fp=[0,1])\n",
    "\n",
    "# Define Gmail logo colors\n",
    "# Maroon (197, 34, 31), Green (52, 168, 83), Blue (66, 133, 244), Red (234, 67, 53), Yellow (251, 188, 4)\n",
    "cdict = {'red':((0.0,inter_from_256(197),inter_from_256(197)),\n",
    "               (1/5*1,inter_from_256(52),inter_from_256(52)),\n",
    "               (1/5*3,inter_from_256(66),inter_from_256(66)),\n",
    "               (1/5*4,inter_from_256(234),inter_from_256(234)),\n",
    "               (1.0,inter_from_256(251),inter_from_256(251))),\n",
    "        'green':((0.0, inter_from_256(34), inter_from_256(34)),\n",
    "               (1/5*1, inter_from_256(168), inter_from_256(168)),\n",
    "               (1/5*3, inter_from_256(133), inter_from_256(133)),\n",
    "               (1/5*4, inter_from_256(67), inter_from_256(67)),\n",
    "               (1.0, inter_from_256(188), inter_from_256(188))),\n",
    "        'blue':((0.0, inter_from_256(31), inter_from_256(31)),\n",
    "               (1/5*1, inter_from_256(83), inter_from_256(83)),\n",
    "               (1/5*3, inter_from_256(244), inter_from_256(244)),\n",
    "               (1/5*4, inter_from_256(53), inter_from_256(53)),\n",
    "               (1.0, inter_from_256(4), inter_from_256(4))),}\n",
    "\n",
    "# Create a custom color palette\n",
    "gmail = LinearSegmentedColormap('gmail',segmentdata=cdict)"
   ]
  },
  {
   "cell_type": "code",
   "execution_count": null,
   "metadata": {},
   "outputs": [],
   "source": [
    "# Initialize an empty string 'total_subjects' to store subject text\n",
    "total_subjects = ' '\n",
    "\n",
    "# Define a list of stopwords and update the set of STOPWORDS\n",
    "stopwords = STOPWORDS.update(['al', 'de', 'en', 'tu', 's', 'la', 'y', 'que', 'te', 'lo', 'el', 'la', 'solo', 'del', 'por',\n",
    "                             'qué', 'que', 'ha', 'desde', 'por', 'ya', 'más', 'es', 'con', 'tus', 'para', 'se', 'los',\n",
    "                             'un', 'una', 'las', 'esto', 'va', 'sobre', 'ti', 'los', 'sandro', 'agama', 'está',\n",
    "                             'tienes notificaciones', 'este', 'día', 'hola', 'hoy','beach','serías', 'fl'])\n",
    "\n",
    "# Load an image mask (e.g., Gmail logo) as a NumPy array\n",
    "mask = np.array(Image.open('Resources/gmail.jpg'))\n",
    "\n",
    "# Iterate through the 'Subject' column of the DataFrame 'email_df'\n",
    "for message in email_df['Subject'].values:\n",
    "    # Convert subject text to lowercase and split into words\n",
    "    subjects = str(message).lower().split()\n",
    "    # Concatenate words to the 'total_subjects' string\n",
    "    for subject in subjects:\n",
    "        total_subjects = total_subjects + subject + ' '\n",
    "\n",
    "# Generate a WordCloud using the 'total_subjects' text\n",
    "wordcloud = WordCloud(scale=2.5, width=1000, height=800,\n",
    "                      background_color='white',\n",
    "                      mask=mask,\n",
    "                      colormap=gmail,\n",
    "                      stopwords=stopwords,\n",
    "                      min_font_size=6).generate(total_subjects)\n",
    "\n",
    "# Display the WordCloud as an image\n",
    "wordcloud.to_image()"
   ]
  },
  {
   "cell_type": "code",
   "execution_count": null,
   "metadata": {},
   "outputs": [],
   "source": [
    "# Save the WordCloud image in PNG format\n",
    "wordcloud_image = wordcloud.to_image()\n",
    "wordcloud_image.save('wordcloud.png', format='PNG')"
   ]
  }
 ],
 "metadata": {
  "kernelspec": {
   "display_name": "base",
   "language": "python",
   "name": "python3"
  },
  "language_info": {
   "codemirror_mode": {
    "name": "ipython",
    "version": 3
   },
   "file_extension": ".py",
   "mimetype": "text/x-python",
   "name": "python",
   "nbconvert_exporter": "python",
   "pygments_lexer": "ipython3",
   "version": "3.9.13"
  },
  "orig_nbformat": 4
 },
 "nbformat": 4,
 "nbformat_minor": 2
}
